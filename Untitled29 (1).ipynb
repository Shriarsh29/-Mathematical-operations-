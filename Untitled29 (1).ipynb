{
  "nbformat": 4,
  "nbformat_minor": 0,
  "metadata": {
    "colab": {
      "provenance": []
    },
    "kernelspec": {
      "name": "python3",
      "display_name": "Python 3"
    },
    "language_info": {
      "name": "python"
    }
  },
  "cells": [
    {
      "cell_type": "code",
      "execution_count": null,
      "metadata": {
        "colab": {
          "base_uri": "https://localhost:8080/"
        },
        "id": "-E7r92rtVUfE",
        "outputId": "23fd151f-7c93-4467-b2a5-c5290c32b6e0"
      },
      "outputs": [
        {
          "output_type": "stream",
          "name": "stdout",
          "text": [
            "3\n",
            "Input Number: 404\n",
            "Result:  Yes\n",
            "Input Number: 135\n",
            "Result:  No\n",
            "Input Number: 868\n",
            "Result:  Yes\n"
          ]
        }
      ],
      "source": [
        "# Number is pelindromic or not\n",
        "T = int(input())\n",
        "for i in range(T):\n",
        "    A = int(input(\"Input Number: \"))\n",
        "    if str(A) == str(A)[::-1]: # Pelindromic Numbers\n",
        "        print(\"Result: \", \"Yes\")\n",
        "    else:\n",
        "        print(\"Result: \", \"No\")"
      ]
    },
    {
      "cell_type": "code",
      "source": [
        "# Calculating HCF\n",
        "T = int(input())\n",
        "for i in range(T):\n",
        "    A = int(input(\"Num1: \"))\n",
        "    B = int(input(\"Num2: \"))\n",
        "    while B != 0:\n",
        "        A, B = B, A % B # Euclidean's formula\n",
        "    print(\"HCF: \", A)"
      ],
      "metadata": {
        "id": "rS4g-PIVbLhK",
        "colab": {
          "base_uri": "https://localhost:8080/"
        },
        "outputId": "479e1ce2-1a25-4a06-8d0c-35b6cde7d9c3"
      },
      "execution_count": null,
      "outputs": [
        {
          "output_type": "stream",
          "name": "stdout",
          "text": [
            "2\n",
            "Num1: 36\n",
            "Num2: 54\n",
            "HCF:  18\n",
            "Num1: 64\n",
            "Num2: 28\n",
            "HCF:  4\n"
          ]
        }
      ]
    },
    {
      "cell_type": "code",
      "source": [
        "# Calculating LCM\n",
        "T = int(input())\n",
        "for i in range(T):\n",
        "    A = int(input(\"Num1: \"))\n",
        "    B = int(input(\"Num2: \"))\n",
        "    a, b = A, B # Storing original value of A, B in a, b before while loop\n",
        "    while B != 0:\n",
        "        A, B = B, A % B\n",
        "        LCM = (a * b) // A\n",
        "    print(\"LCM: \", LCM)"
      ],
      "metadata": {
        "colab": {
          "base_uri": "https://localhost:8080/"
        },
        "id": "nFDVPHo8B9vs",
        "outputId": "a4b74a3c-aaf9-4c17-95e8-935373283e29"
      },
      "execution_count": null,
      "outputs": [
        {
          "output_type": "stream",
          "name": "stdout",
          "text": [
            "2\n",
            "Num1: 38\n",
            "Num2: 18\n",
            "LCM:  342\n",
            "Num1: 72\n",
            "Num2: 164\n",
            "LCM:  2952\n"
          ]
        }
      ]
    },
    {
      "cell_type": "code",
      "source": [
        "# Number stair pattern\n",
        "N = int(input())\n",
        "for i in range(1, (N + 1)):\n",
        "    for j in range(1, i + 1):\n",
        "        if j < i:\n",
        "            print(j, end=\" \")\n",
        "        else:\n",
        "            print(\"\")"
      ],
      "metadata": {
        "colab": {
          "base_uri": "https://localhost:8080/"
        },
        "id": "JDYj5-xOKtjr",
        "outputId": "2ac9cff1-1c8a-4bfb-83af-b6f66a076ebc"
      },
      "execution_count": null,
      "outputs": [
        {
          "output_type": "stream",
          "name": "stdout",
          "text": [
            "10\n",
            "\n",
            "1 \n",
            "1 2 \n",
            "1 2 3 \n",
            "1 2 3 4 \n",
            "1 2 3 4 5 \n",
            "1 2 3 4 5 6 \n",
            "1 2 3 4 5 6 7 \n",
            "1 2 3 4 5 6 7 8 \n",
            "1 2 3 4 5 6 7 8 9 \n"
          ]
        }
      ]
    },
    {
      "cell_type": "code",
      "source": [
        "# Invert stair pattern\n",
        "N = int(input())\n",
        "i = 1\n",
        "for i in range(N, 0, -1):\n",
        "\n",
        "    for j in range(1, i + 1):\n",
        "        if j == i:\n",
        "            print(j, end=\"\")\n",
        "        else:\n",
        "            print(j, end=\" \")\n",
        "    print()"
      ],
      "metadata": {
        "colab": {
          "base_uri": "https://localhost:8080/"
        },
        "id": "Wx8qiTOJK-Od",
        "outputId": "40bb2949-357c-4127-bf6a-2e575bd4b722"
      },
      "execution_count": null,
      "outputs": [
        {
          "output_type": "stream",
          "name": "stdout",
          "text": [
            "10\n",
            "1 2 3 4 5 6 7 8 9 10\n",
            "1 2 3 4 5 6 7 8 9\n",
            "1 2 3 4 5 6 7 8\n",
            "1 2 3 4 5 6 7\n",
            "1 2 3 4 5 6\n",
            "1 2 3 4 5\n",
            "1 2 3 4\n",
            "1 2 3\n",
            "1 2\n",
            "1\n"
          ]
        }
      ]
    },
    {
      "cell_type": "code",
      "source": [
        "# Check highest and lowest score in the list\n",
        "runs_virat = [86, 98, 55, 101, 104, 66]\n",
        "max_runs = runs_virat[0]\n",
        "min_runs = runs_virat[0]\n",
        "for i in runs_virat:\n",
        "    if i > max_runs:\n",
        "        max_runs = i\n",
        "    if i < min_runs:\n",
        "        min_runs = i\n",
        "print(\"max runs: \", max_runs)\n",
        "print(\"min runs: \", min_runs)"
      ],
      "metadata": {
        "colab": {
          "base_uri": "https://localhost:8080/"
        },
        "id": "3JXD0uIzcPd9",
        "outputId": "740081df-2858-4ee5-cdcc-388de1064e62"
      },
      "execution_count": null,
      "outputs": [
        {
          "output_type": "stream",
          "name": "stdout",
          "text": [
            "max runs:  104\n",
            "min runs:  55\n"
          ]
        }
      ]
    },
    {
      "cell_type": "code",
      "source": [
        "N = int(input())\n",
        "#sum of squares of first n natural numbers in integer format.\n",
        "Sum_of_squares = (N * (N + 1) * ((2 * N) + 1)) // 6\n",
        "print(\"Sum of squares: \", Sum_of_squares)"
      ],
      "metadata": {
        "colab": {
          "base_uri": "https://localhost:8080/"
        },
        "id": "6SbYPl8kl9Qu",
        "outputId": "48bf0283-70e4-473b-dc14-cc7c93ffd486"
      },
      "execution_count": null,
      "outputs": [
        {
          "output_type": "stream",
          "name": "stdout",
          "text": [
            "10\n",
            "Sum of squares:  385\n"
          ]
        }
      ]
    },
    {
      "cell_type": "code",
      "source": [
        "# Printing numbers in descending order\n",
        "N = int(input())\n",
        "for i in range(1, N + 1):\n",
        "    if i == N:\n",
        "        print(i, end=\"\")\n",
        "    else:\n",
        "        print(i, end=\" \")\n",
        "print()\n",
        "for i in range(N, 0, -1):\n",
        "    if i == 1:\n",
        "        print(i, end=\"\")\n",
        "    else:\n",
        "        print(i, end=\" \")\n",
        "print()\n"
      ],
      "metadata": {
        "colab": {
          "base_uri": "https://localhost:8080/"
        },
        "id": "CMnK2HLCm_gE",
        "outputId": "e01dda35-30cc-41b1-a6d3-69f62ce5adc1"
      },
      "execution_count": null,
      "outputs": [
        {
          "output_type": "stream",
          "name": "stdout",
          "text": [
            "10\n",
            "1 2 3 4 5 6 7 8 9 10\n",
            "10 9 8 7 6 5 4 3 2 1\n"
          ]
        }
      ]
    },
    {
      "cell_type": "code",
      "source": [
        "# Number is perfect or not.\n",
        "# Perfect number = 6, 28, 496..Sum of dvisor of number is equal to that number.\n",
        "def perfect_number(N):\n",
        "    divisor_sum = 0\n",
        "    for i in range(1, N):\n",
        "        if N % i == 0:\n",
        "            divisor_sum += i\n",
        "    if divisor_sum == N:\n",
        "        return 1\n",
        "    return 0"
      ],
      "metadata": {
        "id": "AW-b1e2GQXFD"
      },
      "execution_count": 25,
      "outputs": []
    },
    {
      "cell_type": "code",
      "source": [
        "test_numbers = [6, 28, 12, 496, 8128, 10]\n",
        "\n",
        "for num in test_numbers:\n",
        "    result = perfect_number(num)\n",
        "    print(f\"{num} = {'Perfect Number ✅' if result else 'Not a Perfect Number ❌'}\")"
      ],
      "metadata": {
        "colab": {
          "base_uri": "https://localhost:8080/",
          "height": 0
        },
        "id": "wjNsKneGZxV8",
        "outputId": "e9f1dca2-1d69-4eb7-8f86-c11256f338f3"
      },
      "execution_count": 26,
      "outputs": [
        {
          "output_type": "stream",
          "name": "stdout",
          "text": [
            "6 = Perfect Number ✅\n",
            "28 = Perfect Number ✅\n",
            "12 = Not a Perfect Number ❌\n",
            "496 = Perfect Number ✅\n",
            "8128 = Perfect Number ✅\n",
            "10 = Not a Perfect Number ❌\n"
          ]
        }
      ]
    },
    {
      "cell_type": "code",
      "source": [
        "# Calculating volume of sphere.\n",
        "T = int(input())\n",
        "for i in range(T):\n",
        "    r = int(input(\"Radius (in cm): \"))\n",
        "    Vol = (4 * (22/7) * r ** 3)/3\n",
        "    round_Vol = round(Vol, 2) # Decimal value upto 2 value\n",
        "    print(\"Volume of Sphere: \", round_Vol, \"cm³\")"
      ],
      "metadata": {
        "colab": {
          "base_uri": "https://localhost:8080/",
          "height": 0
        },
        "id": "Udsl-b0nNCmw",
        "outputId": "883b4d39-1713-4a04-aa53-212e35c02aa1"
      },
      "execution_count": 27,
      "outputs": [
        {
          "output_type": "stream",
          "name": "stdout",
          "text": [
            "2\n",
            "Radius (in cm): 5\n",
            "Volume of Sphere:  523.81 cm³\n",
            "Radius (in cm): 10\n",
            "Volume of Sphere:  4190.48 cm³\n"
          ]
        }
      ]
    },
    {
      "cell_type": "code",
      "source": [
        "N = int(input())\n",
        "\n",
        "for i in range(N, 0, -1):\n",
        "    if i == N:\n",
        "        print(\"*\" * i)\n",
        "    elif i == 1:\n",
        "        print(\"*\")\n",
        "    else:\n",
        "        print(\"*\" + \" \" * (N - (N - i + 2)) + \"*\")\n",
        "\n"
      ],
      "metadata": {
        "colab": {
          "base_uri": "https://localhost:8080/",
          "height": 0
        },
        "id": "dq0IEYPrexSs",
        "outputId": "0b979e92-b25d-4429-c8ea-542ea3d648ad"
      },
      "execution_count": 15,
      "outputs": [
        {
          "output_type": "stream",
          "name": "stdout",
          "text": [
            "8\n",
            "********\n",
            "*     *\n",
            "*    *\n",
            "*   *\n",
            "*  *\n",
            "* *\n",
            "**\n",
            "*\n"
          ]
        }
      ]
    }
  ]
}